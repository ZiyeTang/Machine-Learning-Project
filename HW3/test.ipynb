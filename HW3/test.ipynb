{
 "cells": [
  {
   "cell_type": "code",
   "execution_count": 1,
   "metadata": {},
   "outputs": [
    {
     "name": "stderr",
     "output_type": "stream",
     "text": [
      "C:\\Users\\ziyet\\AppData\\Local\\Packages\\PythonSoftwareFoundation.Python.3.10_qbz5n2kfra8p0\\LocalCache\\local-packages\\Python310\\site-packages\\tqdm\\auto.py:22: TqdmWarning: IProgress not found. Please update jupyter and ipywidgets. See https://ipywidgets.readthedocs.io/en/stable/user_install.html\n",
      "  from .autonotebook import tqdm as notebook_tqdm\n"
     ]
    }
   ],
   "source": [
    "import torch\n",
    "import numpy as np\n",
    "from matplotlib import pyplot as plt \n",
    "from math import prod\n",
    "import hw3_gan\n",
    "import importlib"
   ]
  },
  {
   "cell_type": "code",
   "execution_count": 2,
   "metadata": {},
   "outputs": [
    {
     "name": "stdout",
     "output_type": "stream",
     "text": [
      "Processing dataset ...\n",
      "... done. Total 60000 data entries.\n"
     ]
    },
    {
     "name": "stderr",
     "output_type": "stream",
     "text": [
      "100%|██████████| 234/234 [02:17<00:00,  1.70it/s]\n",
      "  1%|          | 1/100 [02:17<3:46:42, 137.40s/it]"
     ]
    },
    {
     "name": "stdout",
     "output_type": "stream",
     "text": [
      "E: 0; DLoss: 0.7864694595336914; GLoss: 0.5263960957527161\n"
     ]
    },
    {
     "name": "stderr",
     "output_type": "stream",
     "text": [
      "100%|██████████| 234/234 [01:56<00:00,  2.02it/s]\n",
      "  2%|▏         | 2/100 [04:13<3:23:56, 124.86s/it]"
     ]
    },
    {
     "name": "stdout",
     "output_type": "stream",
     "text": [
      "E: 1; DLoss: 0.699836254119873; GLoss: 0.6382795572280884\n"
     ]
    },
    {
     "name": "stderr",
     "output_type": "stream",
     "text": [
      "100%|██████████| 234/234 [01:39<00:00,  2.35it/s]\n",
      "  3%|▎         | 3/100 [05:53<3:03:20, 113.41s/it]"
     ]
    },
    {
     "name": "stdout",
     "output_type": "stream",
     "text": [
      "E: 2; DLoss: 0.714059054851532; GLoss: 0.694516658782959\n"
     ]
    },
    {
     "name": "stderr",
     "output_type": "stream",
     "text": [
      "100%|██████████| 234/234 [02:03<00:00,  1.90it/s]\n",
      "  4%|▍         | 4/100 [07:56<3:07:31, 117.21s/it]"
     ]
    },
    {
     "name": "stdout",
     "output_type": "stream",
     "text": [
      "E: 3; DLoss: 0.7089124917984009; GLoss: 0.7080051898956299\n"
     ]
    },
    {
     "name": "stderr",
     "output_type": "stream",
     "text": [
      "100%|██████████| 234/234 [02:48<00:00,  1.39it/s]\n",
      "  5%|▌         | 5/100 [10:44<3:34:44, 135.62s/it]"
     ]
    },
    {
     "name": "stdout",
     "output_type": "stream",
     "text": [
      "E: 4; DLoss: 0.689525842666626; GLoss: 0.7326185703277588\n"
     ]
    },
    {
     "name": "stderr",
     "output_type": "stream",
     "text": [
      "100%|██████████| 234/234 [02:49<00:00,  1.38it/s]\n",
      "  6%|▌         | 6/100 [13:34<3:50:33, 147.16s/it]"
     ]
    },
    {
     "name": "stdout",
     "output_type": "stream",
     "text": [
      "E: 5; DLoss: 0.6978509426116943; GLoss: 0.7056306004524231\n"
     ]
    },
    {
     "name": "stderr",
     "output_type": "stream",
     "text": [
      "100%|██████████| 234/234 [03:26<00:00,  1.13it/s]\n",
      "  7%|▋         | 7/100 [17:00<4:18:18, 166.65s/it]"
     ]
    },
    {
     "name": "stdout",
     "output_type": "stream",
     "text": [
      "E: 6; DLoss: 0.6983708143234253; GLoss: 0.7139288783073425\n"
     ]
    },
    {
     "name": "stderr",
     "output_type": "stream",
     "text": [
      "100%|██████████| 234/234 [03:30<00:00,  1.11it/s]\n",
      "  8%|▊         | 8/100 [20:31<4:37:00, 180.66s/it]"
     ]
    },
    {
     "name": "stdout",
     "output_type": "stream",
     "text": [
      "E: 7; DLoss: 0.6891194581985474; GLoss: 0.674225926399231\n"
     ]
    },
    {
     "name": "stderr",
     "output_type": "stream",
     "text": [
      "100%|██████████| 234/234 [02:49<00:00,  1.38it/s]\n",
      "  9%|▉         | 9/100 [23:21<4:28:50, 177.25s/it]"
     ]
    },
    {
     "name": "stdout",
     "output_type": "stream",
     "text": [
      "E: 8; DLoss: 0.6964662075042725; GLoss: 0.6910632252693176\n"
     ]
    },
    {
     "name": "stderr",
     "output_type": "stream",
     "text": [
      "100%|██████████| 234/234 [02:37<00:00,  1.49it/s]\n",
      " 10%|█         | 10/100 [25:58<4:16:43, 171.15s/it]"
     ]
    },
    {
     "name": "stdout",
     "output_type": "stream",
     "text": [
      "E: 9; DLoss: 0.6889940500259399; GLoss: 0.6902138590812683\n"
     ]
    },
    {
     "name": "stderr",
     "output_type": "stream",
     "text": [
      "100%|██████████| 234/234 [02:30<00:00,  1.56it/s]\n",
      " 11%|█         | 11/100 [28:29<4:04:29, 164.83s/it]"
     ]
    },
    {
     "name": "stdout",
     "output_type": "stream",
     "text": [
      "E: 10; DLoss: 0.6880381107330322; GLoss: 0.6880897283554077\n"
     ]
    },
    {
     "name": "stderr",
     "output_type": "stream",
     "text": [
      "100%|██████████| 234/234 [02:59<00:00,  1.31it/s]\n",
      " 12%|█▏        | 12/100 [31:28<4:08:12, 169.23s/it]"
     ]
    },
    {
     "name": "stdout",
     "output_type": "stream",
     "text": [
      "E: 11; DLoss: 0.6784219741821289; GLoss: 0.6869397163391113\n"
     ]
    },
    {
     "name": "stderr",
     "output_type": "stream",
     "text": [
      "100%|██████████| 234/234 [02:44<00:00,  1.42it/s]\n",
      " 13%|█▎        | 13/100 [34:13<4:03:15, 167.77s/it]"
     ]
    },
    {
     "name": "stdout",
     "output_type": "stream",
     "text": [
      "E: 12; DLoss: 0.6753040552139282; GLoss: 0.7145510911941528\n"
     ]
    },
    {
     "name": "stderr",
     "output_type": "stream",
     "text": [
      "100%|██████████| 234/234 [02:43<00:00,  1.43it/s]\n",
      " 14%|█▍        | 14/100 [36:56<3:58:47, 166.59s/it]"
     ]
    },
    {
     "name": "stdout",
     "output_type": "stream",
     "text": [
      "E: 13; DLoss: 0.661047101020813; GLoss: 0.7400400638580322\n"
     ]
    },
    {
     "name": "stderr",
     "output_type": "stream",
     "text": [
      "100%|██████████| 234/234 [02:44<00:00,  1.42it/s]\n",
      " 15%|█▌        | 15/100 [39:41<3:55:09, 166.00s/it]"
     ]
    },
    {
     "name": "stdout",
     "output_type": "stream",
     "text": [
      "E: 14; DLoss: 0.6710141897201538; GLoss: 0.7232815027236938\n"
     ]
    },
    {
     "name": "stderr",
     "output_type": "stream",
     "text": [
      "100%|██████████| 234/234 [02:54<00:00,  1.34it/s]\n",
      " 16%|█▌        | 16/100 [42:35<3:55:52, 168.48s/it]"
     ]
    },
    {
     "name": "stdout",
     "output_type": "stream",
     "text": [
      "E: 15; DLoss: 0.6742410659790039; GLoss: 0.706069827079773\n"
     ]
    },
    {
     "name": "stderr",
     "output_type": "stream",
     "text": [
      "100%|██████████| 234/234 [02:56<00:00,  1.32it/s]\n",
      " 17%|█▋        | 17/100 [45:32<3:56:27, 170.93s/it]"
     ]
    },
    {
     "name": "stdout",
     "output_type": "stream",
     "text": [
      "E: 16; DLoss: 0.6698883175849915; GLoss: 0.7487047910690308\n"
     ]
    },
    {
     "name": "stderr",
     "output_type": "stream",
     "text": [
      "100%|██████████| 234/234 [02:01<00:00,  1.93it/s]\n",
      " 18%|█▊        | 18/100 [47:33<3:33:07, 155.94s/it]"
     ]
    },
    {
     "name": "stdout",
     "output_type": "stream",
     "text": [
      "E: 17; DLoss: 0.6699308753013611; GLoss: 0.7395970821380615\n"
     ]
    },
    {
     "name": "stderr",
     "output_type": "stream",
     "text": [
      "100%|██████████| 234/234 [02:02<00:00,  1.91it/s]\n",
      " 19%|█▉        | 19/100 [49:35<3:16:56, 145.89s/it]"
     ]
    },
    {
     "name": "stdout",
     "output_type": "stream",
     "text": [
      "E: 18; DLoss: 0.6677812337875366; GLoss: 0.7200595736503601\n"
     ]
    },
    {
     "name": "stderr",
     "output_type": "stream",
     "text": [
      "100%|██████████| 234/234 [02:36<00:00,  1.49it/s]\n",
      " 20%|██        | 20/100 [52:12<3:18:57, 149.22s/it]"
     ]
    },
    {
     "name": "stdout",
     "output_type": "stream",
     "text": [
      "E: 19; DLoss: 0.673668384552002; GLoss: 0.7032013535499573\n"
     ]
    },
    {
     "name": "stderr",
     "output_type": "stream",
     "text": [
      "100%|██████████| 234/234 [02:36<00:00,  1.50it/s]\n",
      " 21%|██        | 21/100 [54:49<3:19:16, 151.34s/it]"
     ]
    },
    {
     "name": "stdout",
     "output_type": "stream",
     "text": [
      "E: 20; DLoss: 0.6743280291557312; GLoss: 0.7597383856773376\n"
     ]
    },
    {
     "name": "stderr",
     "output_type": "stream",
     "text": [
      "100%|██████████| 234/234 [02:36<00:00,  1.50it/s]\n",
      " 22%|██▏       | 22/100 [57:25<3:18:40, 152.83s/it]"
     ]
    },
    {
     "name": "stdout",
     "output_type": "stream",
     "text": [
      "E: 21; DLoss: 0.6705230474472046; GLoss: 0.7558514475822449\n"
     ]
    },
    {
     "name": "stderr",
     "output_type": "stream",
     "text": [
      "100%|██████████| 234/234 [02:49<00:00,  1.38it/s]\n",
      " 23%|██▎       | 23/100 [1:00:15<3:22:40, 157.93s/it]"
     ]
    },
    {
     "name": "stdout",
     "output_type": "stream",
     "text": [
      "E: 22; DLoss: 0.6726235747337341; GLoss: 0.7529532313346863\n"
     ]
    },
    {
     "name": "stderr",
     "output_type": "stream",
     "text": [
      "100%|██████████| 234/234 [02:16<00:00,  1.72it/s]\n",
      " 24%|██▍       | 24/100 [1:02:31<3:11:51, 151.46s/it]"
     ]
    },
    {
     "name": "stdout",
     "output_type": "stream",
     "text": [
      "E: 23; DLoss: 0.6852445602416992; GLoss: 0.7507787942886353\n"
     ]
    },
    {
     "name": "stderr",
     "output_type": "stream",
     "text": [
      "100%|██████████| 234/234 [02:51<00:00,  1.36it/s]\n",
      " 25%|██▌       | 25/100 [1:05:23<3:16:51, 157.49s/it]"
     ]
    },
    {
     "name": "stdout",
     "output_type": "stream",
     "text": [
      "E: 24; DLoss: 0.6769140958786011; GLoss: 0.7341574430465698\n"
     ]
    },
    {
     "name": "stderr",
     "output_type": "stream",
     "text": [
      "100%|██████████| 234/234 [02:46<00:00,  1.40it/s]\n",
      " 26%|██▌       | 26/100 [1:08:10<3:17:42, 160.30s/it]"
     ]
    },
    {
     "name": "stdout",
     "output_type": "stream",
     "text": [
      "E: 25; DLoss: 0.6819819808006287; GLoss: 0.714865505695343\n"
     ]
    },
    {
     "name": "stderr",
     "output_type": "stream",
     "text": [
      "100%|██████████| 234/234 [02:56<00:00,  1.32it/s]\n",
      " 27%|██▋       | 27/100 [1:11:06<3:21:02, 165.24s/it]"
     ]
    },
    {
     "name": "stdout",
     "output_type": "stream",
     "text": [
      "E: 26; DLoss: 0.6876554489135742; GLoss: 0.718874454498291\n"
     ]
    },
    {
     "name": "stderr",
     "output_type": "stream",
     "text": [
      "100%|██████████| 234/234 [03:09<00:00,  1.23it/s]\n",
      " 28%|██▊       | 28/100 [1:14:16<3:27:03, 172.55s/it]"
     ]
    },
    {
     "name": "stdout",
     "output_type": "stream",
     "text": [
      "E: 27; DLoss: 0.6817498207092285; GLoss: 0.7382019758224487\n"
     ]
    },
    {
     "name": "stderr",
     "output_type": "stream",
     "text": [
      "100%|██████████| 234/234 [03:00<00:00,  1.30it/s]\n",
      " 29%|██▉       | 29/100 [1:17:16<3:26:52, 174.82s/it]"
     ]
    },
    {
     "name": "stdout",
     "output_type": "stream",
     "text": [
      "E: 28; DLoss: 0.6668338179588318; GLoss: 0.7310181260108948\n"
     ]
    },
    {
     "name": "stderr",
     "output_type": "stream",
     "text": [
      "100%|██████████| 234/234 [03:08<00:00,  1.24it/s]\n",
      " 30%|███       | 30/100 [1:20:24<3:28:34, 178.78s/it]"
     ]
    },
    {
     "name": "stdout",
     "output_type": "stream",
     "text": [
      "E: 29; DLoss: 0.6868495941162109; GLoss: 0.7172294855117798\n"
     ]
    },
    {
     "name": "stderr",
     "output_type": "stream",
     "text": [
      "100%|██████████| 234/234 [03:07<00:00,  1.25it/s]\n",
      " 31%|███       | 31/100 [1:23:32<3:28:39, 181.44s/it]"
     ]
    },
    {
     "name": "stdout",
     "output_type": "stream",
     "text": [
      "E: 30; DLoss: 0.6649593114852905; GLoss: 0.7259951829910278\n"
     ]
    },
    {
     "name": "stderr",
     "output_type": "stream",
     "text": [
      "100%|██████████| 234/234 [02:46<00:00,  1.40it/s]\n",
      " 32%|███▏      | 32/100 [1:26:19<3:20:42, 177.10s/it]"
     ]
    },
    {
     "name": "stdout",
     "output_type": "stream",
     "text": [
      "E: 31; DLoss: 0.6894769668579102; GLoss: 0.7099920511245728\n"
     ]
    },
    {
     "name": "stderr",
     "output_type": "stream",
     "text": [
      "100%|██████████| 234/234 [04:00<00:00,  1.03s/it]\n",
      " 33%|███▎      | 33/100 [1:30:19<3:39:00, 196.13s/it]"
     ]
    },
    {
     "name": "stdout",
     "output_type": "stream",
     "text": [
      "E: 32; DLoss: 0.685474157333374; GLoss: 0.7284753918647766\n"
     ]
    },
    {
     "name": "stderr",
     "output_type": "stream",
     "text": [
      "100%|██████████| 234/234 [03:04<00:00,  1.27it/s]\n",
      " 34%|███▍      | 34/100 [1:33:23<3:31:45, 192.50s/it]"
     ]
    },
    {
     "name": "stdout",
     "output_type": "stream",
     "text": [
      "E: 33; DLoss: 0.6841750144958496; GLoss: 0.7177010178565979\n"
     ]
    },
    {
     "name": "stderr",
     "output_type": "stream",
     "text": [
      "100%|██████████| 234/234 [03:02<00:00,  1.28it/s]\n",
      " 35%|███▌      | 35/100 [1:36:26<3:25:14, 189.45s/it]"
     ]
    },
    {
     "name": "stdout",
     "output_type": "stream",
     "text": [
      "E: 34; DLoss: 0.6997772455215454; GLoss: 0.7002127766609192\n"
     ]
    },
    {
     "name": "stderr",
     "output_type": "stream",
     "text": [
      "100%|██████████| 234/234 [02:58<00:00,  1.31it/s]\n",
      " 36%|███▌      | 36/100 [1:39:24<3:18:41, 186.27s/it]"
     ]
    },
    {
     "name": "stdout",
     "output_type": "stream",
     "text": [
      "E: 35; DLoss: 0.6695296764373779; GLoss: 0.7466815710067749\n"
     ]
    },
    {
     "name": "stderr",
     "output_type": "stream",
     "text": [
      "100%|██████████| 234/234 [02:58<00:00,  1.31it/s]\n",
      " 37%|███▋      | 37/100 [1:42:23<3:13:15, 184.05s/it]"
     ]
    },
    {
     "name": "stdout",
     "output_type": "stream",
     "text": [
      "E: 36; DLoss: 0.6856515407562256; GLoss: 0.7081389427185059\n"
     ]
    },
    {
     "name": "stderr",
     "output_type": "stream",
     "text": [
      "100%|██████████| 234/234 [02:38<00:00,  1.48it/s]\n",
      " 38%|███▊      | 38/100 [1:45:01<3:02:08, 176.26s/it]"
     ]
    },
    {
     "name": "stdout",
     "output_type": "stream",
     "text": [
      "E: 37; DLoss: 0.6765762567520142; GLoss: 0.7273856401443481\n"
     ]
    },
    {
     "name": "stderr",
     "output_type": "stream",
     "text": [
      "100%|██████████| 234/234 [02:38<00:00,  1.48it/s]\n",
      " 39%|███▉      | 39/100 [1:47:40<2:53:47, 170.94s/it]"
     ]
    },
    {
     "name": "stdout",
     "output_type": "stream",
     "text": [
      "E: 38; DLoss: 0.6878899335861206; GLoss: 0.7074640393257141\n"
     ]
    },
    {
     "name": "stderr",
     "output_type": "stream",
     "text": [
      "100%|██████████| 234/234 [02:45<00:00,  1.42it/s]\n",
      " 40%|████      | 40/100 [1:50:25<2:49:11, 169.19s/it]"
     ]
    },
    {
     "name": "stdout",
     "output_type": "stream",
     "text": [
      "E: 39; DLoss: 0.6940480470657349; GLoss: 0.7026872038841248\n"
     ]
    },
    {
     "name": "stderr",
     "output_type": "stream",
     "text": [
      "100%|██████████| 234/234 [05:50<00:00,  1.50s/it]\n",
      " 41%|████      | 41/100 [1:56:15<3:39:47, 223.51s/it]"
     ]
    },
    {
     "name": "stdout",
     "output_type": "stream",
     "text": [
      "E: 40; DLoss: 0.6853749752044678; GLoss: 0.7178537249565125\n"
     ]
    },
    {
     "name": "stderr",
     "output_type": "stream",
     "text": [
      "100%|██████████| 234/234 [06:29<00:00,  1.66s/it]\n",
      " 42%|████▏     | 42/100 [2:02:44<4:24:06, 273.21s/it]"
     ]
    },
    {
     "name": "stdout",
     "output_type": "stream",
     "text": [
      "E: 41; DLoss: 0.6789795160293579; GLoss: 0.7166652679443359\n"
     ]
    },
    {
     "name": "stderr",
     "output_type": "stream",
     "text": [
      "100%|██████████| 234/234 [06:22<00:00,  1.64s/it]\n",
      " 43%|████▎     | 43/100 [2:09:07<4:50:45, 306.06s/it]"
     ]
    },
    {
     "name": "stdout",
     "output_type": "stream",
     "text": [
      "E: 42; DLoss: 0.6882213354110718; GLoss: 0.7117972373962402\n"
     ]
    },
    {
     "name": "stderr",
     "output_type": "stream",
     "text": [
      "100%|██████████| 234/234 [05:49<00:00,  1.49s/it]\n",
      " 44%|████▍     | 44/100 [2:14:56<4:57:42, 318.97s/it]"
     ]
    },
    {
     "name": "stdout",
     "output_type": "stream",
     "text": [
      "E: 43; DLoss: 0.690213680267334; GLoss: 0.7084865570068359\n"
     ]
    },
    {
     "name": "stderr",
     "output_type": "stream",
     "text": [
      "100%|██████████| 234/234 [05:40<00:00,  1.46s/it]\n",
      " 45%|████▌     | 45/100 [2:20:37<4:58:25, 325.56s/it]"
     ]
    },
    {
     "name": "stdout",
     "output_type": "stream",
     "text": [
      "E: 44; DLoss: 0.6895158290863037; GLoss: 0.6951936483383179\n"
     ]
    },
    {
     "name": "stderr",
     "output_type": "stream",
     "text": [
      "100%|██████████| 234/234 [05:53<00:00,  1.51s/it]\n",
      " 46%|████▌     | 46/100 [2:26:31<5:00:41, 334.10s/it]"
     ]
    },
    {
     "name": "stdout",
     "output_type": "stream",
     "text": [
      "E: 45; DLoss: 0.6871672868728638; GLoss: 0.7122942209243774\n"
     ]
    },
    {
     "name": "stderr",
     "output_type": "stream",
     "text": [
      "100%|██████████| 234/234 [05:55<00:00,  1.52s/it]\n",
      " 47%|████▋     | 47/100 [2:32:27<5:00:43, 340.45s/it]"
     ]
    },
    {
     "name": "stdout",
     "output_type": "stream",
     "text": [
      "E: 46; DLoss: 0.6805979013442993; GLoss: 0.7252315878868103\n"
     ]
    },
    {
     "name": "stderr",
     "output_type": "stream",
     "text": [
      "100%|██████████| 234/234 [05:49<00:00,  1.49s/it]\n",
      " 48%|████▊     | 48/100 [2:38:16<4:57:18, 343.06s/it]"
     ]
    },
    {
     "name": "stdout",
     "output_type": "stream",
     "text": [
      "E: 47; DLoss: 0.6903721690177917; GLoss: 0.709834098815918\n"
     ]
    },
    {
     "name": "stderr",
     "output_type": "stream",
     "text": [
      "100%|██████████| 234/234 [05:41<00:00,  1.46s/it]\n",
      " 49%|████▉     | 49/100 [2:43:57<4:51:07, 342.50s/it]"
     ]
    },
    {
     "name": "stdout",
     "output_type": "stream",
     "text": [
      "E: 48; DLoss: 0.6930603384971619; GLoss: 0.705019474029541\n"
     ]
    },
    {
     "name": "stderr",
     "output_type": "stream",
     "text": [
      "100%|██████████| 234/234 [05:34<00:00,  1.43s/it]\n",
      " 50%|█████     | 50/100 [2:49:31<4:43:19, 339.98s/it]"
     ]
    },
    {
     "name": "stdout",
     "output_type": "stream",
     "text": [
      "E: 49; DLoss: 0.6851798295974731; GLoss: 0.7175527811050415\n"
     ]
    },
    {
     "name": "stderr",
     "output_type": "stream",
     "text": [
      "100%|██████████| 234/234 [05:26<00:00,  1.39s/it]\n",
      " 51%|█████     | 51/100 [2:54:57<4:34:15, 335.83s/it]"
     ]
    },
    {
     "name": "stdout",
     "output_type": "stream",
     "text": [
      "E: 50; DLoss: 0.6797201037406921; GLoss: 0.7263046503067017\n"
     ]
    },
    {
     "name": "stderr",
     "output_type": "stream",
     "text": [
      "100%|██████████| 234/234 [05:26<00:00,  1.40s/it]\n",
      " 52%|█████▏    | 52/100 [3:00:24<4:26:31, 333.15s/it]"
     ]
    },
    {
     "name": "stdout",
     "output_type": "stream",
     "text": [
      "E: 51; DLoss: 0.688789963722229; GLoss: 0.7309961318969727\n"
     ]
    },
    {
     "name": "stderr",
     "output_type": "stream",
     "text": [
      "100%|██████████| 234/234 [05:24<00:00,  1.39s/it]\n",
      " 53%|█████▎    | 53/100 [3:05:48<4:18:55, 330.54s/it]"
     ]
    },
    {
     "name": "stdout",
     "output_type": "stream",
     "text": [
      "E: 52; DLoss: 0.6802859306335449; GLoss: 0.7239066958427429\n"
     ]
    },
    {
     "name": "stderr",
     "output_type": "stream",
     "text": [
      "100%|██████████| 234/234 [05:19<00:00,  1.37s/it]\n",
      " 54%|█████▍    | 54/100 [3:11:08<4:10:54, 327.27s/it]"
     ]
    },
    {
     "name": "stdout",
     "output_type": "stream",
     "text": [
      "E: 53; DLoss: 0.6862114667892456; GLoss: 0.7149296998977661\n"
     ]
    },
    {
     "name": "stderr",
     "output_type": "stream",
     "text": [
      "100%|██████████| 234/234 [05:09<00:00,  1.32s/it]\n",
      " 55%|█████▌    | 55/100 [3:16:18<4:01:26, 321.92s/it]"
     ]
    },
    {
     "name": "stdout",
     "output_type": "stream",
     "text": [
      "E: 54; DLoss: 0.6864593029022217; GLoss: 0.7047004699707031\n"
     ]
    },
    {
     "name": "stderr",
     "output_type": "stream",
     "text": [
      "100%|██████████| 234/234 [05:21<00:00,  1.37s/it]\n",
      " 56%|█████▌    | 56/100 [3:21:39<3:56:00, 321.83s/it]"
     ]
    },
    {
     "name": "stdout",
     "output_type": "stream",
     "text": [
      "E: 55; DLoss: 0.6994435787200928; GLoss: 0.7084614038467407\n"
     ]
    },
    {
     "name": "stderr",
     "output_type": "stream",
     "text": [
      "100%|██████████| 234/234 [05:19<00:00,  1.37s/it]\n",
      " 57%|█████▋    | 57/100 [3:26:59<3:50:15, 321.28s/it]"
     ]
    },
    {
     "name": "stdout",
     "output_type": "stream",
     "text": [
      "E: 56; DLoss: 0.686814546585083; GLoss: 0.7267204523086548\n"
     ]
    },
    {
     "name": "stderr",
     "output_type": "stream",
     "text": [
      "100%|██████████| 234/234 [05:25<00:00,  1.39s/it]\n",
      " 58%|█████▊    | 58/100 [3:32:25<3:45:48, 322.59s/it]"
     ]
    },
    {
     "name": "stdout",
     "output_type": "stream",
     "text": [
      "E: 57; DLoss: 0.6870147585868835; GLoss: 0.7043082118034363\n"
     ]
    },
    {
     "name": "stderr",
     "output_type": "stream",
     "text": [
      "100%|██████████| 234/234 [05:14<00:00,  1.35s/it]\n",
      " 59%|█████▉    | 59/100 [3:37:40<3:38:51, 320.28s/it]"
     ]
    },
    {
     "name": "stdout",
     "output_type": "stream",
     "text": [
      "E: 58; DLoss: 0.6906074285507202; GLoss: 0.7084899544715881\n"
     ]
    },
    {
     "name": "stderr",
     "output_type": "stream",
     "text": [
      "100%|██████████| 234/234 [05:12<00:00,  1.34s/it]\n",
      " 60%|██████    | 60/100 [3:42:52<3:31:59, 317.99s/it]"
     ]
    },
    {
     "name": "stdout",
     "output_type": "stream",
     "text": [
      "E: 59; DLoss: 0.6886063814163208; GLoss: 0.7047743797302246\n"
     ]
    },
    {
     "name": "stderr",
     "output_type": "stream",
     "text": [
      "100%|██████████| 234/234 [05:15<00:00,  1.35s/it]\n",
      " 61%|██████    | 61/100 [3:48:08<3:26:13, 317.27s/it]"
     ]
    },
    {
     "name": "stdout",
     "output_type": "stream",
     "text": [
      "E: 60; DLoss: 0.6920780539512634; GLoss: 0.7060338258743286\n"
     ]
    },
    {
     "name": "stderr",
     "output_type": "stream",
     "text": [
      "100%|██████████| 234/234 [05:21<00:00,  1.37s/it]\n",
      " 62%|██████▏   | 62/100 [3:53:29<3:21:39, 318.41s/it]"
     ]
    },
    {
     "name": "stdout",
     "output_type": "stream",
     "text": [
      "E: 61; DLoss: 0.694259524345398; GLoss: 0.6947949528694153\n"
     ]
    },
    {
     "name": "stderr",
     "output_type": "stream",
     "text": [
      "100%|██████████| 234/234 [31:49<00:00,  8.16s/it]\n",
      " 63%|██████▎   | 63/100 [4:25:18<8:10:37, 795.62s/it]"
     ]
    },
    {
     "name": "stdout",
     "output_type": "stream",
     "text": [
      "E: 62; DLoss: 0.6873451471328735; GLoss: 0.6939057111740112\n"
     ]
    },
    {
     "name": "stderr",
     "output_type": "stream",
     "text": [
      "100%|██████████| 234/234 [01:14<00:00,  3.14it/s]\n",
      " 64%|██████▍   | 64/100 [4:26:33<5:47:35, 579.31s/it]"
     ]
    },
    {
     "name": "stdout",
     "output_type": "stream",
     "text": [
      "E: 63; DLoss: 0.6874244213104248; GLoss: 0.7084571123123169\n"
     ]
    },
    {
     "name": "stderr",
     "output_type": "stream",
     "text": [
      "100%|██████████| 234/234 [01:13<00:00,  3.17it/s]\n",
      " 65%|██████▌   | 65/100 [4:27:47<4:09:29, 427.69s/it]"
     ]
    },
    {
     "name": "stdout",
     "output_type": "stream",
     "text": [
      "E: 64; DLoss: 0.6818627119064331; GLoss: 0.7149286270141602\n"
     ]
    },
    {
     "name": "stderr",
     "output_type": "stream",
     "text": [
      "100%|██████████| 234/234 [01:26<00:00,  2.72it/s]\n",
      " 66%|██████▌   | 66/100 [4:29:13<3:04:16, 325.20s/it]"
     ]
    },
    {
     "name": "stdout",
     "output_type": "stream",
     "text": [
      "E: 65; DLoss: 0.6858328580856323; GLoss: 0.7056097388267517\n"
     ]
    },
    {
     "name": "stderr",
     "output_type": "stream",
     "text": [
      "100%|██████████| 234/234 [01:30<00:00,  2.58it/s]\n",
      " 67%|██████▋   | 67/100 [4:30:43<2:20:09, 254.82s/it]"
     ]
    },
    {
     "name": "stdout",
     "output_type": "stream",
     "text": [
      "E: 66; DLoss: 0.6856387853622437; GLoss: 0.6921765208244324\n"
     ]
    },
    {
     "name": "stderr",
     "output_type": "stream",
     "text": [
      "100%|██████████| 234/234 [01:25<00:00,  2.74it/s]\n",
      " 68%|██████▊   | 68/100 [4:32:09<1:48:48, 204.00s/it]"
     ]
    },
    {
     "name": "stdout",
     "output_type": "stream",
     "text": [
      "E: 67; DLoss: 0.6883911490440369; GLoss: 0.7149419784545898\n"
     ]
    },
    {
     "name": "stderr",
     "output_type": "stream",
     "text": [
      "100%|██████████| 234/234 [02:13<00:00,  1.75it/s]\n",
      " 69%|██████▉   | 69/100 [4:34:22<1:34:28, 182.84s/it]"
     ]
    },
    {
     "name": "stdout",
     "output_type": "stream",
     "text": [
      "E: 68; DLoss: 0.687319278717041; GLoss: 0.7067298889160156\n"
     ]
    },
    {
     "name": "stderr",
     "output_type": "stream",
     "text": [
      "100%|██████████| 234/234 [02:12<00:00,  1.76it/s]\n",
      " 70%|███████   | 70/100 [4:36:35<1:23:55, 167.85s/it]"
     ]
    },
    {
     "name": "stdout",
     "output_type": "stream",
     "text": [
      "E: 69; DLoss: 0.6970241069793701; GLoss: 0.6957894563674927\n"
     ]
    },
    {
     "name": "stderr",
     "output_type": "stream",
     "text": [
      "100%|██████████| 234/234 [02:12<00:00,  1.76it/s]\n",
      " 71%|███████   | 71/100 [4:38:48<1:16:02, 157.34s/it]"
     ]
    },
    {
     "name": "stdout",
     "output_type": "stream",
     "text": [
      "E: 70; DLoss: 0.6854612827301025; GLoss: 0.707331120967865\n"
     ]
    },
    {
     "name": "stderr",
     "output_type": "stream",
     "text": [
      "100%|██████████| 234/234 [02:13<00:00,  1.76it/s]\n",
      " 72%|███████▏  | 72/100 [4:41:01<1:10:01, 150.05s/it]"
     ]
    },
    {
     "name": "stdout",
     "output_type": "stream",
     "text": [
      "E: 71; DLoss: 0.6833947896957397; GLoss: 0.7111538052558899\n"
     ]
    },
    {
     "name": "stderr",
     "output_type": "stream",
     "text": [
      "100%|██████████| 234/234 [02:17<00:00,  1.70it/s]\n",
      " 73%|███████▎  | 73/100 [4:43:19<1:05:52, 146.38s/it]"
     ]
    },
    {
     "name": "stdout",
     "output_type": "stream",
     "text": [
      "E: 72; DLoss: 0.6878798007965088; GLoss: 0.6966705322265625\n"
     ]
    },
    {
     "name": "stderr",
     "output_type": "stream",
     "text": [
      "100%|██████████| 234/234 [02:21<00:00,  1.66it/s]\n",
      " 74%|███████▍  | 74/100 [4:45:40<1:02:45, 144.82s/it]"
     ]
    },
    {
     "name": "stdout",
     "output_type": "stream",
     "text": [
      "E: 73; DLoss: 0.6834859251976013; GLoss: 0.7186603546142578\n"
     ]
    },
    {
     "name": "stderr",
     "output_type": "stream",
     "text": [
      "100%|██████████| 234/234 [02:21<00:00,  1.66it/s]\n",
      " 75%|███████▌  | 75/100 [4:48:01<59:53, 143.76s/it]  "
     ]
    },
    {
     "name": "stdout",
     "output_type": "stream",
     "text": [
      "E: 74; DLoss: 0.6820837259292603; GLoss: 0.7068337798118591\n"
     ]
    },
    {
     "name": "stderr",
     "output_type": "stream",
     "text": [
      "100%|██████████| 234/234 [02:22<00:00,  1.64it/s]\n",
      " 76%|███████▌  | 76/100 [4:50:24<57:22, 143.46s/it]"
     ]
    },
    {
     "name": "stdout",
     "output_type": "stream",
     "text": [
      "E: 75; DLoss: 0.6916475296020508; GLoss: 0.7060930728912354\n"
     ]
    },
    {
     "name": "stderr",
     "output_type": "stream",
     "text": [
      "100%|██████████| 234/234 [02:22<00:00,  1.65it/s]\n",
      " 77%|███████▋  | 77/100 [4:52:46<54:49, 143.04s/it]"
     ]
    },
    {
     "name": "stdout",
     "output_type": "stream",
     "text": [
      "E: 76; DLoss: 0.6877602338790894; GLoss: 0.7107583284378052\n"
     ]
    },
    {
     "name": "stderr",
     "output_type": "stream",
     "text": [
      "100%|██████████| 234/234 [02:22<00:00,  1.64it/s]\n",
      " 78%|███████▊  | 78/100 [4:55:09<52:23, 142.89s/it]"
     ]
    },
    {
     "name": "stdout",
     "output_type": "stream",
     "text": [
      "E: 77; DLoss: 0.693354606628418; GLoss: 0.7150495052337646\n"
     ]
    },
    {
     "name": "stderr",
     "output_type": "stream",
     "text": [
      "100%|██████████| 234/234 [02:22<00:00,  1.65it/s]\n",
      " 79%|███████▉  | 79/100 [4:57:31<49:55, 142.63s/it]"
     ]
    },
    {
     "name": "stdout",
     "output_type": "stream",
     "text": [
      "E: 78; DLoss: 0.689653217792511; GLoss: 0.6939681768417358\n"
     ]
    },
    {
     "name": "stderr",
     "output_type": "stream",
     "text": [
      "100%|██████████| 234/234 [02:22<00:00,  1.65it/s]\n",
      " 80%|████████  | 80/100 [4:59:53<47:29, 142.46s/it]"
     ]
    },
    {
     "name": "stdout",
     "output_type": "stream",
     "text": [
      "E: 79; DLoss: 0.6866288185119629; GLoss: 0.7079553008079529\n"
     ]
    },
    {
     "name": "stderr",
     "output_type": "stream",
     "text": [
      "100%|██████████| 234/234 [02:20<00:00,  1.66it/s]\n",
      " 81%|████████  | 81/100 [5:02:13<44:56, 141.94s/it]"
     ]
    },
    {
     "name": "stdout",
     "output_type": "stream",
     "text": [
      "E: 80; DLoss: 0.6842894554138184; GLoss: 0.697900652885437\n"
     ]
    },
    {
     "name": "stderr",
     "output_type": "stream",
     "text": [
      "100%|██████████| 234/234 [02:21<00:00,  1.65it/s]\n",
      " 82%|████████▏ | 82/100 [5:04:35<42:32, 141.79s/it]"
     ]
    },
    {
     "name": "stdout",
     "output_type": "stream",
     "text": [
      "E: 81; DLoss: 0.687116265296936; GLoss: 0.6977978348731995\n"
     ]
    },
    {
     "name": "stderr",
     "output_type": "stream",
     "text": [
      "100%|██████████| 234/234 [02:21<00:00,  1.66it/s]\n",
      " 83%|████████▎ | 83/100 [5:06:56<40:07, 141.64s/it]"
     ]
    },
    {
     "name": "stdout",
     "output_type": "stream",
     "text": [
      "E: 82; DLoss: 0.683766782283783; GLoss: 0.7091715931892395\n"
     ]
    },
    {
     "name": "stderr",
     "output_type": "stream",
     "text": [
      "100%|██████████| 234/234 [02:21<00:00,  1.66it/s]\n",
      " 84%|████████▍ | 84/100 [5:09:17<37:43, 141.49s/it]"
     ]
    },
    {
     "name": "stdout",
     "output_type": "stream",
     "text": [
      "E: 83; DLoss: 0.6841840744018555; GLoss: 0.7141457796096802\n"
     ]
    },
    {
     "name": "stderr",
     "output_type": "stream",
     "text": [
      "100%|██████████| 234/234 [02:21<00:00,  1.66it/s]\n",
      " 85%|████████▌ | 85/100 [5:11:38<35:20, 141.37s/it]"
     ]
    },
    {
     "name": "stdout",
     "output_type": "stream",
     "text": [
      "E: 84; DLoss: 0.684978723526001; GLoss: 0.7143794894218445\n"
     ]
    },
    {
     "name": "stderr",
     "output_type": "stream",
     "text": [
      "100%|██████████| 234/234 [02:21<00:00,  1.65it/s]\n",
      " 86%|████████▌ | 86/100 [5:14:00<32:59, 141.38s/it]"
     ]
    },
    {
     "name": "stdout",
     "output_type": "stream",
     "text": [
      "E: 85; DLoss: 0.6818139553070068; GLoss: 0.7105490565299988\n"
     ]
    },
    {
     "name": "stderr",
     "output_type": "stream",
     "text": [
      "100%|██████████| 234/234 [02:23<00:00,  1.63it/s]\n",
      " 87%|████████▋ | 87/100 [5:16:23<30:45, 141.95s/it]"
     ]
    },
    {
     "name": "stdout",
     "output_type": "stream",
     "text": [
      "E: 86; DLoss: 0.6789300441741943; GLoss: 0.7175804376602173\n"
     ]
    },
    {
     "name": "stderr",
     "output_type": "stream",
     "text": [
      "100%|██████████| 234/234 [02:20<00:00,  1.66it/s]\n",
      " 88%|████████▊ | 88/100 [5:18:44<28:19, 141.60s/it]"
     ]
    },
    {
     "name": "stdout",
     "output_type": "stream",
     "text": [
      "E: 87; DLoss: 0.684455394744873; GLoss: 0.7191215753555298\n"
     ]
    },
    {
     "name": "stderr",
     "output_type": "stream",
     "text": [
      "100%|██████████| 234/234 [02:22<00:00,  1.64it/s]\n",
      " 89%|████████▉ | 89/100 [5:21:06<26:00, 141.84s/it]"
     ]
    },
    {
     "name": "stdout",
     "output_type": "stream",
     "text": [
      "E: 88; DLoss: 0.6824578046798706; GLoss: 0.7183834910392761\n"
     ]
    },
    {
     "name": "stderr",
     "output_type": "stream",
     "text": [
      "100%|██████████| 234/234 [02:21<00:00,  1.65it/s]\n",
      " 90%|█████████ | 90/100 [5:23:28<23:38, 141.88s/it]"
     ]
    },
    {
     "name": "stdout",
     "output_type": "stream",
     "text": [
      "E: 89; DLoss: 0.6827245950698853; GLoss: 0.7101168036460876\n"
     ]
    },
    {
     "name": "stderr",
     "output_type": "stream",
     "text": [
      "100%|██████████| 234/234 [02:19<00:00,  1.68it/s]\n",
      " 91%|█████████ | 91/100 [5:25:48<21:10, 141.16s/it]"
     ]
    },
    {
     "name": "stdout",
     "output_type": "stream",
     "text": [
      "E: 90; DLoss: 0.6809850931167603; GLoss: 0.7129294276237488\n"
     ]
    },
    {
     "name": "stderr",
     "output_type": "stream",
     "text": [
      "100%|██████████| 234/234 [01:32<00:00,  2.54it/s]\n",
      " 92%|█████████▏| 92/100 [5:27:20<16:51, 126.42s/it]"
     ]
    },
    {
     "name": "stdout",
     "output_type": "stream",
     "text": [
      "E: 91; DLoss: 0.6782587766647339; GLoss: 0.7162230014801025\n"
     ]
    },
    {
     "name": "stderr",
     "output_type": "stream",
     "text": [
      "100%|██████████| 234/234 [01:41<00:00,  2.30it/s]\n",
      " 93%|█████████▎| 93/100 [5:29:01<13:53, 119.02s/it]"
     ]
    },
    {
     "name": "stdout",
     "output_type": "stream",
     "text": [
      "E: 92; DLoss: 0.6857877373695374; GLoss: 0.7215345501899719\n"
     ]
    },
    {
     "name": "stderr",
     "output_type": "stream",
     "text": [
      "100%|██████████| 234/234 [01:34<00:00,  2.47it/s]\n",
      " 94%|█████████▍| 94/100 [5:30:36<11:10, 111.70s/it]"
     ]
    },
    {
     "name": "stdout",
     "output_type": "stream",
     "text": [
      "E: 93; DLoss: 0.67667156457901; GLoss: 0.7181562185287476\n"
     ]
    },
    {
     "name": "stderr",
     "output_type": "stream",
     "text": [
      "100%|██████████| 234/234 [01:33<00:00,  2.50it/s]\n",
      " 95%|█████████▌| 95/100 [5:32:10<08:51, 106.30s/it]"
     ]
    },
    {
     "name": "stdout",
     "output_type": "stream",
     "text": [
      "E: 94; DLoss: 0.6818414330482483; GLoss: 0.718431830406189\n"
     ]
    },
    {
     "name": "stderr",
     "output_type": "stream",
     "text": [
      "  4%|▍         | 9/234 [00:06<02:52,  1.30it/s]\n",
      " 95%|█████████▌| 95/100 [5:32:17<17:29, 209.86s/it]\n"
     ]
    },
    {
     "ename": "KeyboardInterrupt",
     "evalue": "",
     "output_type": "error",
     "traceback": [
      "\u001b[1;31m---------------------------------------------------------------------------\u001b[0m",
      "\u001b[1;31mKeyboardInterrupt\u001b[0m                         Traceback (most recent call last)",
      "Cell \u001b[1;32mIn[2], line 3\u001b[0m\n\u001b[0;32m      1\u001b[0m importlib\u001b[39m.\u001b[39mreload(hw3_gan)\n\u001b[0;32m      2\u001b[0m gan \u001b[39m=\u001b[39m hw3_gan\u001b[39m.\u001b[39mGAN()\n\u001b[1;32m----> 3\u001b[0m gan\u001b[39m.\u001b[39;49mtrain()\n",
      "File \u001b[1;32mc:\\Users\\ziyet\\CS 446\\HW3\\code\\hw3_gan.py:229\u001b[0m, in \u001b[0;36mGAN.train\u001b[1;34m(self, iter_d, iter_g, n_epochs, batch_size, lr)\u001b[0m\n\u001b[0;32m    227\u001b[0m \u001b[39mfor\u001b[39;00m k \u001b[39min\u001b[39;00m \u001b[39mrange\u001b[39m(iter_g):\n\u001b[0;32m    228\u001b[0m     loss_g \u001b[39m=\u001b[39m \u001b[39mself\u001b[39m\u001b[39m.\u001b[39m_get_loss_g(batch_size, z)\n\u001b[1;32m--> 229\u001b[0m     loss_g\u001b[39m.\u001b[39;49mbackward()\n\u001b[0;32m    230\u001b[0m     gopt\u001b[39m.\u001b[39mstep()\n\u001b[0;32m    231\u001b[0m     gopt\u001b[39m.\u001b[39mzero_grad()\n",
      "File \u001b[1;32m~\\AppData\\Local\\Packages\\PythonSoftwareFoundation.Python.3.10_qbz5n2kfra8p0\\LocalCache\\local-packages\\Python310\\site-packages\\torch\\_tensor.py:488\u001b[0m, in \u001b[0;36mTensor.backward\u001b[1;34m(self, gradient, retain_graph, create_graph, inputs)\u001b[0m\n\u001b[0;32m    478\u001b[0m \u001b[39mif\u001b[39;00m has_torch_function_unary(\u001b[39mself\u001b[39m):\n\u001b[0;32m    479\u001b[0m     \u001b[39mreturn\u001b[39;00m handle_torch_function(\n\u001b[0;32m    480\u001b[0m         Tensor\u001b[39m.\u001b[39mbackward,\n\u001b[0;32m    481\u001b[0m         (\u001b[39mself\u001b[39m,),\n\u001b[1;32m   (...)\u001b[0m\n\u001b[0;32m    486\u001b[0m         inputs\u001b[39m=\u001b[39minputs,\n\u001b[0;32m    487\u001b[0m     )\n\u001b[1;32m--> 488\u001b[0m torch\u001b[39m.\u001b[39;49mautograd\u001b[39m.\u001b[39;49mbackward(\n\u001b[0;32m    489\u001b[0m     \u001b[39mself\u001b[39;49m, gradient, retain_graph, create_graph, inputs\u001b[39m=\u001b[39;49minputs\n\u001b[0;32m    490\u001b[0m )\n",
      "File \u001b[1;32m~\\AppData\\Local\\Packages\\PythonSoftwareFoundation.Python.3.10_qbz5n2kfra8p0\\LocalCache\\local-packages\\Python310\\site-packages\\torch\\autograd\\__init__.py:197\u001b[0m, in \u001b[0;36mbackward\u001b[1;34m(tensors, grad_tensors, retain_graph, create_graph, grad_variables, inputs)\u001b[0m\n\u001b[0;32m    192\u001b[0m     retain_graph \u001b[39m=\u001b[39m create_graph\n\u001b[0;32m    194\u001b[0m \u001b[39m# The reason we repeat same the comment below is that\u001b[39;00m\n\u001b[0;32m    195\u001b[0m \u001b[39m# some Python versions print out the first line of a multi-line function\u001b[39;00m\n\u001b[0;32m    196\u001b[0m \u001b[39m# calls in the traceback and some print out the last line\u001b[39;00m\n\u001b[1;32m--> 197\u001b[0m Variable\u001b[39m.\u001b[39;49m_execution_engine\u001b[39m.\u001b[39;49mrun_backward(  \u001b[39m# Calls into the C++ engine to run the backward pass\u001b[39;49;00m\n\u001b[0;32m    198\u001b[0m     tensors, grad_tensors_, retain_graph, create_graph, inputs,\n\u001b[0;32m    199\u001b[0m     allow_unreachable\u001b[39m=\u001b[39;49m\u001b[39mTrue\u001b[39;49;00m, accumulate_grad\u001b[39m=\u001b[39;49m\u001b[39mTrue\u001b[39;49;00m)\n",
      "\u001b[1;31mKeyboardInterrupt\u001b[0m: "
     ]
    },
    {
     "data": {
      "image/png": "[encoded data removed]",
      "text/plain": [
       "<Figure size 640x480 with 1 Axes>"
      ]
     },
     "metadata": {},
     "output_type": "display_data"
    }
   ],
   "source": [
    "importlib.reload(hw3_gan)\n",
    "gan = hw3_gan.GAN()\n",
    "gan.train()"
   ]
  },
  {
   "cell_type": "code",
   "execution_count": null,
   "metadata": {},
   "outputs": [],
   "source": []
  }
 ],
 "metadata": {
  "kernelspec": {
   "display_name": "Python 3",
   "language": "python",
   "name": "python3"
  },
  "language_info": {
   "codemirror_mode": {
    "name": "ipython",
    "version": 3
   },
   "file_extension": ".py",
   "mimetype": "text/x-python",
   "name": "python",
   "nbconvert_exporter": "python",
   "pygments_lexer": "ipython3",
   "version": "3.10.10"
  },
  "orig_nbformat": 4,
  "vscode": {
   "interpreter": {
    "hash": "2c600f3fa83df65d408765edd591e7f47aab2dd6182c20846ee24acb19ae9141"
   }
  }
 },
 "nbformat": 4,
 "nbformat_minor": 2
}
